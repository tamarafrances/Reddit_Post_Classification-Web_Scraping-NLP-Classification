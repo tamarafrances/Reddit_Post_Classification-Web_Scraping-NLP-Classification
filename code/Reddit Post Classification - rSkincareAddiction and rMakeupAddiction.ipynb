{
 "cells": [
  {
   "cell_type": "markdown",
   "id": "62c0b983-9a5d-4e77-aba3-57d948d45015",
   "metadata": {},
   "source": [
    "# Importing and Reading Data"
   ]
  },
  {
   "cell_type": "code",
   "execution_count": 1,
   "id": "d91ad200-80e5-4d80-9d48-43a5dde17c33",
   "metadata": {},
   "outputs": [],
   "source": [
    "import pandas as pd\n",
    "import numpy as np\n",
    "import matplotlib.pyplot as plt\n",
    "\n",
    "from sklearn.model_selection import train_test_split\n",
    "from sklearn.linear_model import LogisticRegression\n",
    "from sklearn.feature_extraction.text import CountVectorizer\n",
    "from sklearn.ensemble import RandomForestClassifier, ExtraTreesClassifier\n",
    "from sklearn.model_selection import GridSearchCV\n",
    "from sklearn.naive_bayes import MultinomialNB\n",
    "from sklearn.metrics import ConfusionMatrixDisplay\n",
    "from sklearn.pipeline import Pipeline"
   ]
  },
  {
   "cell_type": "code",
   "execution_count": 2,
   "id": "cdba61c8-42f8-4eeb-9025-4cebaf4a1205",
   "metadata": {},
   "outputs": [],
   "source": [
    "df = pd.read_csv('./data/skin_and_makeup.csv')"
   ]
  },
  {
   "cell_type": "code",
   "execution_count": 3,
   "id": "fd52139d-21a9-40e3-a740-9617cc94c011",
   "metadata": {},
   "outputs": [
    {
     "data": {
      "text/html": [
       "<div>\n",
       "<style scoped>\n",
       "    .dataframe tbody tr th:only-of-type {\n",
       "        vertical-align: middle;\n",
       "    }\n",
       "\n",
       "    .dataframe tbody tr th {\n",
       "        vertical-align: top;\n",
       "    }\n",
       "\n",
       "    .dataframe thead th {\n",
       "        text-align: right;\n",
       "    }\n",
       "</style>\n",
       "<table border=\"1\" class=\"dataframe\">\n",
       "  <thead>\n",
       "    <tr style=\"text-align: right;\">\n",
       "      <th></th>\n",
       "      <th>all_awardings</th>\n",
       "      <th>allow_live_comments</th>\n",
       "      <th>author</th>\n",
       "      <th>author_flair_css_class</th>\n",
       "      <th>author_flair_richtext</th>\n",
       "      <th>author_flair_template_id</th>\n",
       "      <th>author_flair_text</th>\n",
       "      <th>author_flair_text_color</th>\n",
       "      <th>author_flair_type</th>\n",
       "      <th>author_fullname</th>\n",
       "      <th>...</th>\n",
       "      <th>post_hint</th>\n",
       "      <th>preview</th>\n",
       "      <th>suggested_sort</th>\n",
       "      <th>author_cakeday</th>\n",
       "      <th>banned_by</th>\n",
       "      <th>call_to_action</th>\n",
       "      <th>category</th>\n",
       "      <th>edited</th>\n",
       "      <th>collections</th>\n",
       "      <th>poll_data</th>\n",
       "    </tr>\n",
       "  </thead>\n",
       "  <tbody>\n",
       "    <tr>\n",
       "      <th>0</th>\n",
       "      <td>[]</td>\n",
       "      <td>False</td>\n",
       "      <td>Prestigious_Carob878</td>\n",
       "      <td>notag</td>\n",
       "      <td>[]</td>\n",
       "      <td>4d48f1aa-6c35-11e9-81f1-0acf30770a48</td>\n",
       "      <td>NaN</td>\n",
       "      <td>dark</td>\n",
       "      <td>text</td>\n",
       "      <td>t2_e2gd3b5v</td>\n",
       "      <td>...</td>\n",
       "      <td>NaN</td>\n",
       "      <td>NaN</td>\n",
       "      <td>NaN</td>\n",
       "      <td>NaN</td>\n",
       "      <td>NaN</td>\n",
       "      <td>NaN</td>\n",
       "      <td>NaN</td>\n",
       "      <td>NaN</td>\n",
       "      <td>NaN</td>\n",
       "      <td>NaN</td>\n",
       "    </tr>\n",
       "    <tr>\n",
       "      <th>1</th>\n",
       "      <td>[]</td>\n",
       "      <td>False</td>\n",
       "      <td>savathus</td>\n",
       "      <td>NaN</td>\n",
       "      <td>[]</td>\n",
       "      <td>NaN</td>\n",
       "      <td>NaN</td>\n",
       "      <td>NaN</td>\n",
       "      <td>text</td>\n",
       "      <td>t2_u9qvd</td>\n",
       "      <td>...</td>\n",
       "      <td>NaN</td>\n",
       "      <td>NaN</td>\n",
       "      <td>NaN</td>\n",
       "      <td>NaN</td>\n",
       "      <td>NaN</td>\n",
       "      <td>NaN</td>\n",
       "      <td>NaN</td>\n",
       "      <td>NaN</td>\n",
       "      <td>NaN</td>\n",
       "      <td>NaN</td>\n",
       "    </tr>\n",
       "    <tr>\n",
       "      <th>2</th>\n",
       "      <td>[]</td>\n",
       "      <td>False</td>\n",
       "      <td>spaghettiwithoutsauc</td>\n",
       "      <td>NaN</td>\n",
       "      <td>[]</td>\n",
       "      <td>NaN</td>\n",
       "      <td>NaN</td>\n",
       "      <td>NaN</td>\n",
       "      <td>text</td>\n",
       "      <td>t2_63vefhhe</td>\n",
       "      <td>...</td>\n",
       "      <td>NaN</td>\n",
       "      <td>NaN</td>\n",
       "      <td>NaN</td>\n",
       "      <td>NaN</td>\n",
       "      <td>NaN</td>\n",
       "      <td>NaN</td>\n",
       "      <td>NaN</td>\n",
       "      <td>NaN</td>\n",
       "      <td>NaN</td>\n",
       "      <td>NaN</td>\n",
       "    </tr>\n",
       "    <tr>\n",
       "      <th>3</th>\n",
       "      <td>[]</td>\n",
       "      <td>False</td>\n",
       "      <td>flynnflynnflynnflyn</td>\n",
       "      <td>notag</td>\n",
       "      <td>[]</td>\n",
       "      <td>4d48f1aa-6c35-11e9-81f1-0acf30770a48</td>\n",
       "      <td>NaN</td>\n",
       "      <td>dark</td>\n",
       "      <td>text</td>\n",
       "      <td>t2_5g457afi</td>\n",
       "      <td>...</td>\n",
       "      <td>NaN</td>\n",
       "      <td>NaN</td>\n",
       "      <td>NaN</td>\n",
       "      <td>NaN</td>\n",
       "      <td>NaN</td>\n",
       "      <td>NaN</td>\n",
       "      <td>NaN</td>\n",
       "      <td>NaN</td>\n",
       "      <td>NaN</td>\n",
       "      <td>NaN</td>\n",
       "    </tr>\n",
       "    <tr>\n",
       "      <th>4</th>\n",
       "      <td>[]</td>\n",
       "      <td>False</td>\n",
       "      <td>Mysterious-Bet8451</td>\n",
       "      <td>notag</td>\n",
       "      <td>[]</td>\n",
       "      <td>4d48f1aa-6c35-11e9-81f1-0acf30770a48</td>\n",
       "      <td>NaN</td>\n",
       "      <td>dark</td>\n",
       "      <td>text</td>\n",
       "      <td>t2_an09qail</td>\n",
       "      <td>...</td>\n",
       "      <td>NaN</td>\n",
       "      <td>NaN</td>\n",
       "      <td>NaN</td>\n",
       "      <td>NaN</td>\n",
       "      <td>NaN</td>\n",
       "      <td>NaN</td>\n",
       "      <td>NaN</td>\n",
       "      <td>NaN</td>\n",
       "      <td>NaN</td>\n",
       "      <td>NaN</td>\n",
       "    </tr>\n",
       "  </tbody>\n",
       "</table>\n",
       "<p>5 rows × 79 columns</p>\n",
       "</div>"
      ],
      "text/plain": [
       "  all_awardings  allow_live_comments                author  \\\n",
       "0            []                False  Prestigious_Carob878   \n",
       "1            []                False              savathus   \n",
       "2            []                False  spaghettiwithoutsauc   \n",
       "3            []                False   flynnflynnflynnflyn   \n",
       "4            []                False    Mysterious-Bet8451   \n",
       "\n",
       "  author_flair_css_class author_flair_richtext  \\\n",
       "0                  notag                    []   \n",
       "1                    NaN                    []   \n",
       "2                    NaN                    []   \n",
       "3                  notag                    []   \n",
       "4                  notag                    []   \n",
       "\n",
       "               author_flair_template_id author_flair_text  \\\n",
       "0  4d48f1aa-6c35-11e9-81f1-0acf30770a48               NaN   \n",
       "1                                   NaN               NaN   \n",
       "2                                   NaN               NaN   \n",
       "3  4d48f1aa-6c35-11e9-81f1-0acf30770a48               NaN   \n",
       "4  4d48f1aa-6c35-11e9-81f1-0acf30770a48               NaN   \n",
       "\n",
       "  author_flair_text_color author_flair_type author_fullname  ...  post_hint  \\\n",
       "0                    dark              text     t2_e2gd3b5v  ...        NaN   \n",
       "1                     NaN              text        t2_u9qvd  ...        NaN   \n",
       "2                     NaN              text     t2_63vefhhe  ...        NaN   \n",
       "3                    dark              text     t2_5g457afi  ...        NaN   \n",
       "4                    dark              text     t2_an09qail  ...        NaN   \n",
       "\n",
       "  preview suggested_sort author_cakeday  banned_by  call_to_action  category  \\\n",
       "0     NaN            NaN            NaN        NaN             NaN       NaN   \n",
       "1     NaN            NaN            NaN        NaN             NaN       NaN   \n",
       "2     NaN            NaN            NaN        NaN             NaN       NaN   \n",
       "3     NaN            NaN            NaN        NaN             NaN       NaN   \n",
       "4     NaN            NaN            NaN        NaN             NaN       NaN   \n",
       "\n",
       "  edited collections poll_data  \n",
       "0    NaN         NaN       NaN  \n",
       "1    NaN         NaN       NaN  \n",
       "2    NaN         NaN       NaN  \n",
       "3    NaN         NaN       NaN  \n",
       "4    NaN         NaN       NaN  \n",
       "\n",
       "[5 rows x 79 columns]"
      ]
     },
     "execution_count": 3,
     "metadata": {},
     "output_type": "execute_result"
    }
   ],
   "source": [
    "df.head()"
   ]
  },
  {
   "cell_type": "code",
   "execution_count": 52,
   "id": "47cd3a2d-a27d-4ca3-b555-f40233088eeb",
   "metadata": {},
   "outputs": [
    {
     "name": "stdout",
     "output_type": "stream",
     "text": [
      "<class 'pandas.core.frame.DataFrame'>\n",
      "Int64Index: 6837 entries, 0 to 6996\n",
      "Data columns (total 79 columns):\n",
      " #   Column                         Non-Null Count  Dtype  \n",
      "---  ------                         --------------  -----  \n",
      " 0   all_awardings                  6837 non-null   object \n",
      " 1   allow_live_comments            6837 non-null   bool   \n",
      " 2   author                         6837 non-null   object \n",
      " 3   author_flair_css_class         2955 non-null   object \n",
      " 4   author_flair_richtext          6833 non-null   object \n",
      " 5   author_flair_template_id       2877 non-null   object \n",
      " 6   author_flair_text              81 non-null     object \n",
      " 7   author_flair_text_color        3004 non-null   object \n",
      " 8   author_flair_type              6833 non-null   object \n",
      " 9   author_fullname                6833 non-null   object \n",
      " 10  author_is_blocked              6837 non-null   bool   \n",
      " 11  author_patreon_flair           6833 non-null   object \n",
      " 12  author_premium                 6833 non-null   object \n",
      " 13  awarders                       6837 non-null   object \n",
      " 14  can_mod_post                   6837 non-null   bool   \n",
      " 15  contest_mode                   6837 non-null   bool   \n",
      " 16  created_utc                    6837 non-null   int64  \n",
      " 17  domain                         6837 non-null   object \n",
      " 18  full_link                      6837 non-null   object \n",
      " 19  gildings                       6837 non-null   object \n",
      " 20  id                             6837 non-null   object \n",
      " 21  is_created_from_ads_ui         6837 non-null   bool   \n",
      " 22  is_crosspostable               6837 non-null   bool   \n",
      " 23  is_meta                        6837 non-null   bool   \n",
      " 24  is_original_content            6837 non-null   bool   \n",
      " 25  is_reddit_media_domain         6837 non-null   bool   \n",
      " 26  is_robot_indexable             6837 non-null   bool   \n",
      " 27  is_self                        6837 non-null   bool   \n",
      " 28  is_video                       6837 non-null   bool   \n",
      " 29  link_flair_background_color    3579 non-null   object \n",
      " 30  link_flair_richtext            6837 non-null   object \n",
      " 31  link_flair_text_color          6837 non-null   object \n",
      " 32  link_flair_type                6837 non-null   object \n",
      " 33  locked                         6837 non-null   bool   \n",
      " 34  media_only                     6837 non-null   bool   \n",
      " 35  no_follow                      6837 non-null   bool   \n",
      " 36  num_comments                   6837 non-null   int64  \n",
      " 37  num_crossposts                 6837 non-null   int64  \n",
      " 38  over_18                        6837 non-null   bool   \n",
      " 39  parent_whitelist_status        6837 non-null   object \n",
      " 40  permalink                      6837 non-null   object \n",
      " 41  pinned                         6837 non-null   bool   \n",
      " 42  pwls                           6837 non-null   int64  \n",
      " 43  removed_by_category            3131 non-null   object \n",
      " 44  retrieved_on                   6837 non-null   int64  \n",
      " 45  score                          6837 non-null   int64  \n",
      " 46  selftext                       6837 non-null   object \n",
      " 47  send_replies                   6837 non-null   bool   \n",
      " 48  spoiler                        6837 non-null   bool   \n",
      " 49  stickied                       6837 non-null   bool   \n",
      " 50  subreddit                      6837 non-null   object \n",
      " 51  subreddit_id                   6837 non-null   object \n",
      " 52  subreddit_subscribers          6837 non-null   int64  \n",
      " 53  subreddit_type                 6837 non-null   object \n",
      " 54  thumbnail                      6837 non-null   object \n",
      " 55  title                          6837 non-null   object \n",
      " 56  total_awards_received          6837 non-null   int64  \n",
      " 57  treatment_tags                 6837 non-null   object \n",
      " 58  upvote_ratio                   6837 non-null   float64\n",
      " 59  url                            6837 non-null   object \n",
      " 60  whitelist_status               6837 non-null   object \n",
      " 61  wls                            6837 non-null   int64  \n",
      " 62  link_flair_css_class           3664 non-null   object \n",
      " 63  link_flair_template_id         3590 non-null   object \n",
      " 64  link_flair_text                3664 non-null   object \n",
      " 65  author_flair_background_color  30 non-null     object \n",
      " 66  media_metadata                 64 non-null     object \n",
      " 67  thumbnail_height               115 non-null    float64\n",
      " 68  thumbnail_width                115 non-null    float64\n",
      " 69  post_hint                      436 non-null    object \n",
      " 70  preview                        436 non-null    object \n",
      " 71  suggested_sort                 15 non-null     object \n",
      " 72  author_cakeday                 25 non-null     object \n",
      " 73  banned_by                      0 non-null      object \n",
      " 74  call_to_action                 0 non-null      float64\n",
      " 75  category                       0 non-null      float64\n",
      " 76  edited                         4 non-null      float64\n",
      " 77  collections                    4 non-null      object \n",
      " 78  poll_data                      29 non-null     object \n",
      "dtypes: bool(20), float64(6), int64(9), object(44)\n",
      "memory usage: 3.3+ MB\n"
     ]
    }
   ],
   "source": [
    "df.info()"
   ]
  },
  {
   "cell_type": "markdown",
   "id": "fd254fec-4917-4637-b9cb-09fb61a0f472",
   "metadata": {},
   "source": [
    "<br>\n",
    "\n",
    "----\n",
    "<br>"
   ]
  },
  {
   "cell_type": "markdown",
   "id": "540932e3-7f31-4afc-97d9-73ce4d4afa5d",
   "metadata": {
    "tags": []
   },
   "source": [
    "## Model Creation: Round 1\n",
    "#### Data cleaning: just removing rows where selftext is null"
   ]
  },
  {
   "cell_type": "code",
   "execution_count": 4,
   "id": "0aca7f12-a86e-45bd-bf23-ad2d095d9b4c",
   "metadata": {},
   "outputs": [],
   "source": [
    "df = df[df['selftext'].isnull()==False]"
   ]
  },
  {
   "cell_type": "code",
   "execution_count": 5,
   "id": "063ad0dd-98a7-49ed-a827-cf2b25ea2551",
   "metadata": {},
   "outputs": [],
   "source": [
    "X = df['selftext']\n",
    "y = df['subreddit']\n",
    "X_train, X_test, y_train, y_test = train_test_split(X,y,stratify = y, random_state=42)"
   ]
  },
  {
   "cell_type": "code",
   "execution_count": 6,
   "id": "62cbe1d1-d7a6-4c2d-b610-822fe6db43b2",
   "metadata": {},
   "outputs": [
    {
     "data": {
      "text/plain": [
       "MakeupAddiction      0.508995\n",
       "SkincareAddiction    0.491005\n",
       "Name: subreddit, dtype: float64"
      ]
     },
     "execution_count": 6,
     "metadata": {},
     "output_type": "execute_result"
    }
   ],
   "source": [
    "y.value_counts(normalize=True)"
   ]
  },
  {
   "cell_type": "markdown",
   "id": "68afa099-338a-4ce0-b3b6-64aebcd9f65c",
   "metadata": {},
   "source": [
    "**If the majority class (MakeupAddiction) was predicted every time, the model would be correct 50.9% of the time.**\n"
   ]
  },
  {
   "cell_type": "code",
   "execution_count": 7,
   "id": "a294424b-9955-46ee-a451-a7a19ee4686a",
   "metadata": {},
   "outputs": [],
   "source": [
    "cv = CountVectorizer()"
   ]
  },
  {
   "cell_type": "code",
   "execution_count": 8,
   "id": "27bb15cd-1c42-4070-9cb1-03b01507019b",
   "metadata": {},
   "outputs": [],
   "source": [
    "X_train_cv = cv.fit_transform(X_train)\n",
    "X_test_cv = cv.transform(X_test)"
   ]
  },
  {
   "cell_type": "code",
   "execution_count": 9,
   "id": "ead3841f-0d52-4d77-aa6b-7de3b86e9b7c",
   "metadata": {},
   "outputs": [
    {
     "name": "stdout",
     "output_type": "stream",
     "text": [
      "(LR) Test set accuracy score :  0.7789473684210526\n"
     ]
    }
   ],
   "source": [
    "lr = LogisticRegression(max_iter=10_000)\n",
    "lr.fit(X_train_cv, y_train)\n",
    "print('(LR) Test set accuracy score : ',lr.score(X_test_cv, y_test))"
   ]
  },
  {
   "cell_type": "code",
   "execution_count": 10,
   "id": "d17c5bd7-de11-4c86-bca6-3a30240f9c8b",
   "metadata": {},
   "outputs": [
    {
     "name": "stdout",
     "output_type": "stream",
     "text": [
      "(RFC) Test set accuracy score :  0.7473684210526316\n"
     ]
    }
   ],
   "source": [
    "rfc = RandomForestClassifier(random_state=42)\n",
    "rfc.fit(X_train_cv, y_train)\n",
    "print('(RFC) Test set accuracy score : ',rfc.score(X_test_cv, y_test))"
   ]
  },
  {
   "cell_type": "code",
   "execution_count": 11,
   "id": "69d65793-6bbb-424b-941f-1f0cec53fb9e",
   "metadata": {},
   "outputs": [
    {
     "name": "stdout",
     "output_type": "stream",
     "text": [
      "(MNB) Test set accuracy score :  0.783625730994152\n"
     ]
    }
   ],
   "source": [
    "mnb = MultinomialNB()\n",
    "mnb.fit(X_train_cv, y_train)\n",
    "print('(MNB) Test set accuracy score : ',mnb.score(X_test_cv, y_test))"
   ]
  },
  {
   "cell_type": "markdown",
   "id": "a365e8e1-9ee6-4d19-8799-89cdd39b88c6",
   "metadata": {},
   "source": [
    "#### <br><b>Ranking based on accuracy score success metric:\n",
    "1) Multinomial Naive Bayes\n",
    "2) Logistic Regression\n",
    "3) Random Forest Classifier\n",
    "</b>\n",
    "<br>\n"
   ]
  },
  {
   "cell_type": "code",
   "execution_count": 12,
   "id": "b4fafb97-b568-432f-b496-1e2e71b204e8",
   "metadata": {},
   "outputs": [
    {
     "name": "stdout",
     "output_type": "stream",
     "text": [
      "Multinomial Naive Bayes accuracy score :  0.7836\n",
      "Logistic Regression accuracy score :  0.7789\n",
      "Random Forest Classifier accuracy score :  0.7474\n"
     ]
    }
   ],
   "source": [
    "print('Multinomial Naive Bayes accuracy score : ', round(mnb.score(X_test_cv, y_test),4))\n",
    "print('Logistic Regression accuracy score : ', round(lr.score(X_test_cv, y_test),4))\n",
    "print('Random Forest Classifier accuracy score : ', round(rfc.score(X_test_cv, y_test),4))"
   ]
  },
  {
   "cell_type": "markdown",
   "id": "ba7c915b-ce23-4058-a9c3-d890538478dd",
   "metadata": {},
   "source": [
    "<br>\n",
    "\n",
    "----\n",
    "<br>"
   ]
  },
  {
   "cell_type": "markdown",
   "id": "0a93630a-2952-45f1-b40b-f60124431cbd",
   "metadata": {
    "tags": []
   },
   "source": [
    "# Model Creation: Round 2\n",
    "#### Data cleaning: removing rows where selftext was null, deleted, or removed"
   ]
  },
  {
   "cell_type": "code",
   "execution_count": 13,
   "id": "5954c455-e946-4722-b8e6-edd3887083a9",
   "metadata": {},
   "outputs": [],
   "source": [
    "df2 = df[(df['selftext'].isnull()==False) & (df['selftext'] != '[removed]') & (df['selftext'] != '[deleted]')] \n",
    "#removing deleted and removed posts"
   ]
  },
  {
   "cell_type": "code",
   "execution_count": 14,
   "id": "471b1e8a-2dee-4067-a35a-e8892d75b2b7",
   "metadata": {},
   "outputs": [],
   "source": [
    "X2 = df2['selftext']\n",
    "y2 = df2['subreddit']\n",
    "X2_train, X2_test, y2_train, y2_test = train_test_split(X2,y2,stratify = y2, random_state=42)"
   ]
  },
  {
   "cell_type": "code",
   "execution_count": 15,
   "id": "b89fa1d9-b631-4961-ac73-e0f47885947c",
   "metadata": {},
   "outputs": [
    {
     "data": {
      "text/plain": [
       "MakeupAddiction      0.595418\n",
       "SkincareAddiction    0.404582\n",
       "Name: subreddit, dtype: float64"
      ]
     },
     "execution_count": 15,
     "metadata": {},
     "output_type": "execute_result"
    }
   ],
   "source": [
    "y2.value_counts(normalize=True)\n",
    "#baseline model"
   ]
  },
  {
   "cell_type": "markdown",
   "id": "0b5be21f-dc90-4eba-9f64-46da38ac265b",
   "metadata": {},
   "source": [
    "**If the majority class (MakeupAddiction) was predicted every time, the model would be correct 59.5% of the time.<br>\n",
    "I don't believe the data is unbalanced enough to use any balancing methods.** <br>"
   ]
  },
  {
   "cell_type": "markdown",
   "id": "df41b2a0-0d2d-4d50-a192-e4fdbdc6d52f",
   "metadata": {},
   "source": [
    "<br>\n",
    "\n",
    "### Logistic Regression\n"
   ]
  },
  {
   "cell_type": "markdown",
   "id": "709ee7c1-7364-4cae-ae03-8139731a5eac",
   "metadata": {},
   "source": [
    "**Default Count Vectorizer and Logistic Regression Parameters**"
   ]
  },
  {
   "cell_type": "code",
   "execution_count": 16,
   "id": "d0a69e58-07f9-4b9f-98e2-b71591b8b76b",
   "metadata": {},
   "outputs": [],
   "source": [
    "cv2 = CountVectorizer()\n",
    "X2_train_cv = cv2.fit_transform(X2_train)\n",
    "X2_test_cv = cv2.transform(X2_test)"
   ]
  },
  {
   "cell_type": "code",
   "execution_count": 17,
   "id": "ff6f9626-7c94-4373-af59-f39e9b987e6a",
   "metadata": {},
   "outputs": [
    {
     "name": "stdout",
     "output_type": "stream",
     "text": [
      "(LR2) Test set accuracy score :  0.9213362068965517\n"
     ]
    }
   ],
   "source": [
    "lr2 = LogisticRegression(max_iter=10_000)\n",
    "lr2.fit(X2_train_cv, y2_train)\n",
    "print('(LR2) Test set accuracy score : ',lr2.score(X2_test_cv, y2_test))"
   ]
  },
  {
   "cell_type": "markdown",
   "id": "ba522b2d-8c80-4de5-8370-62bbd2cc8152",
   "metadata": {},
   "source": [
    "**Count Vectorizer and Logistic Regression Hyperparameter Tuning**"
   ]
  },
  {
   "cell_type": "code",
   "execution_count": 18,
   "id": "5c273f82-1045-4ccd-a7b1-b5b3c9f063fd",
   "metadata": {},
   "outputs": [
    {
     "data": {
      "text/plain": [
       "GridSearchCV(estimator=Pipeline(steps=[('cv2',\n",
       "                                        CountVectorizer(stop_words='english')),\n",
       "                                       ('lr',\n",
       "                                        LogisticRegression(max_iter=10000))]),\n",
       "             param_grid={'cv2__min_df': (1, 2),\n",
       "                         'cv2__ngram_range': ((1, 1), (1, 2)),\n",
       "                         'lr__C': [0.25, 0.5, 0.75, 1.0]})"
      ]
     },
     "execution_count": 18,
     "metadata": {},
     "output_type": "execute_result"
    }
   ],
   "source": [
    "pipeline = Pipeline([\n",
    "    ('cv2', CountVectorizer(stop_words='english')),\n",
    "    ('lr', LogisticRegression(max_iter = 10_000))\n",
    "])\n",
    "\n",
    "parameters = {\n",
    "    'cv2__min_df': (1,2),\n",
    "    'cv2__ngram_range': ((1, 1), (1, 2)),\n",
    "    'lr__C': [0.25, 0.5, 0.75, 1.0]}\n",
    "    \n",
    "gs_lr = GridSearchCV(pipeline, param_grid = parameters)\n",
    "gs_lr.fit(X2_train, y2_train)"
   ]
  },
  {
   "cell_type": "code",
   "execution_count": 19,
   "id": "074b229a-94ff-4ddd-8ff5-7d109b3bf99c",
   "metadata": {},
   "outputs": [
    {
     "name": "stdout",
     "output_type": "stream",
     "text": [
      "gs_lr train score :  0.99568655643422\n",
      "gs_lr test score :  0.9342672413793104\n",
      "The accuracy score with hyperparameter tuning increased by : 0.0129\n"
     ]
    }
   ],
   "source": [
    "print('gs_lr train score : ', gs_lr.score(X2_train, y2_train))\n",
    "print('gs_lr test score : ', gs_lr.score(X2_test, y2_test))\n",
    "print('The accuracy score with hyperparameter tuning increased by : '\n",
    "      f'{round((gs_lr.score(X2_test, y2_test)) - (lr2.score(X2_test_cv, y2_test)),4)}')"
   ]
  },
  {
   "cell_type": "code",
   "execution_count": 20,
   "id": "4764eb94-442d-4d96-a0d7-cc7d14cda161",
   "metadata": {},
   "outputs": [
    {
     "name": "stdout",
     "output_type": "stream",
     "text": [
      "gs_lr best params :  {'cv2__min_df': 2, 'cv2__ngram_range': (1, 2), 'lr__C': 0.25}\n",
      "gs_lr best estimator :  Pipeline(steps=[('cv2',\n",
      "                 CountVectorizer(min_df=2, ngram_range=(1, 2),\n",
      "                                 stop_words='english')),\n",
      "                ('lr', LogisticRegression(C=0.25, max_iter=10000))])\n"
     ]
    }
   ],
   "source": [
    "print('gs_lr best params : ', gs_lr.best_params_)\n",
    "print('gs_lr best estimator : ', gs_lr.best_estimator_)"
   ]
  },
  {
   "cell_type": "markdown",
   "id": "b0a807eb-3db7-4656-a103-ee1cefa710cf",
   "metadata": {},
   "source": [
    "<br>\n",
    "\n",
    "### Random Forest Classifier"
   ]
  },
  {
   "cell_type": "markdown",
   "id": "6bdf0792-207f-43bb-a3fc-f052e17bfe85",
   "metadata": {},
   "source": [
    "**Random Forest Classifier: Count Vectorizer and Default Parameters**"
   ]
  },
  {
   "cell_type": "code",
   "execution_count": 21,
   "id": "ab1a3836-a349-4c79-82ef-ca7d2b30f12c",
   "metadata": {},
   "outputs": [
    {
     "name": "stdout",
     "output_type": "stream",
     "text": [
      "(RFC2) Test set accuracy score :  0.9191810344827587\n"
     ]
    }
   ],
   "source": [
    "rfc2 = RandomForestClassifier(random_state=42)\n",
    "rfc2.fit(X2_train_cv, y2_train)\n",
    "print('(RFC2) Test set accuracy score : ',rfc2.score(X2_test_cv, y2_test))"
   ]
  },
  {
   "cell_type": "markdown",
   "id": "bbf1622b-5d5d-4b43-b71d-b860a254c76e",
   "metadata": {},
   "source": [
    "<br>\n",
    "\n",
    "**Count Vectorizer and Logistic Regression Hyperparameter Tuning**"
   ]
  },
  {
   "cell_type": "code",
   "execution_count": 22,
   "id": "4b7ea146-b29c-4642-9ed2-4673f607ca79",
   "metadata": {},
   "outputs": [
    {
     "data": {
      "text/plain": [
       "GridSearchCV(estimator=Pipeline(steps=[('cv2',\n",
       "                                        CountVectorizer(stop_words='english')),\n",
       "                                       ('rfc',\n",
       "                                        RandomForestClassifier(random_state=42))]),\n",
       "             n_jobs=-1,\n",
       "             param_grid={'cv2__min_df': (1, 3),\n",
       "                         'rfc__n_estimators': (300, 500)})"
      ]
     },
     "execution_count": 22,
     "metadata": {},
     "output_type": "execute_result"
    }
   ],
   "source": [
    "pipeline = Pipeline([\n",
    "    ('cv2', CountVectorizer(stop_words='english')),\n",
    "    ('rfc', RandomForestClassifier(random_state=42))\n",
    "])\n",
    "\n",
    "parameters = {\n",
    "    'cv2__min_df': (1,3),\n",
    "    #'cv2__ngram_range': ((1, 1), (1, 2)), default (1,1) is the best\n",
    "    'rfc__n_estimators': (300, 500),\n",
    "    #'rfc__max_depth': (None, 3, 5), default none is the best\n",
    "    #rfc__min_samples_leaf': (1, 3), default is best\n",
    "}\n",
    "    \n",
    "gs_rfc = GridSearchCV(pipeline, param_grid = parameters, n_jobs=-1)\n",
    "gs_rfc.fit(X2_train, y2_train)"
   ]
  },
  {
   "cell_type": "code",
   "execution_count": 23,
   "id": "f4c845c9-70fd-47e3-bffe-ada828794b67",
   "metadata": {},
   "outputs": [
    {
     "name": "stdout",
     "output_type": "stream",
     "text": [
      "gs_rfc train score :  0.9982027318475917\n",
      "gs_rfc test score :  0.9353448275862069\n",
      "The accuracy score with hyperparameter tuning increased by : 0.0162\n"
     ]
    }
   ],
   "source": [
    "print('gs_rfc train score : ', gs_rfc.score(X2_train, y2_train))\n",
    "print('gs_rfc test score : ', gs_rfc.score(X2_test, y2_test))\n",
    "print('The accuracy score with hyperparameter tuning increased by : '\n",
    "      f'{round((gs_rfc.score(X2_test, y2_test)) - (rfc2.score(X2_test_cv, y2_test)),4)}')"
   ]
  },
  {
   "cell_type": "code",
   "execution_count": 24,
   "id": "de115701-5ded-4c22-9d81-8d3acf741e1d",
   "metadata": {},
   "outputs": [
    {
     "name": "stdout",
     "output_type": "stream",
     "text": [
      "gs_rfc best params :  {'cv2__min_df': 3, 'rfc__n_estimators': 500}\n",
      "gs_rfc best estimator :  Pipeline(steps=[('cv2', CountVectorizer(min_df=3, stop_words='english')),\n",
      "                ('rfc',\n",
      "                 RandomForestClassifier(n_estimators=500, random_state=42))])\n"
     ]
    }
   ],
   "source": [
    "print('gs_rfc best params : ', gs_rfc.best_params_)\n",
    "print('gs_rfc best estimator : ', gs_rfc.best_estimator_)"
   ]
  },
  {
   "cell_type": "markdown",
   "id": "58501b0c-a80b-4c90-9203-593177093c39",
   "metadata": {},
   "source": [
    "<br>\n",
    "\n",
    "### Multinomial Naive Bayes"
   ]
  },
  {
   "cell_type": "markdown",
   "id": "94bae602-20cf-498d-8d58-5307a2abdc0c",
   "metadata": {},
   "source": [
    "**Default Count Vectorizer and Multinomial Naive Bayes Parameters**"
   ]
  },
  {
   "cell_type": "code",
   "execution_count": 25,
   "id": "58231910-df67-4185-aa36-fc88c341fe14",
   "metadata": {},
   "outputs": [
    {
     "name": "stdout",
     "output_type": "stream",
     "text": [
      "(MNB2) Test set accuracy score :  0.9418103448275862\n"
     ]
    }
   ],
   "source": [
    "mnb2 = MultinomialNB()\n",
    "mnb2.fit(X2_train_cv, y2_train)\n",
    "print('(MNB2) Test set accuracy score : ', mnb2.score(X2_test_cv, y2_test))"
   ]
  },
  {
   "cell_type": "markdown",
   "id": "13bb3f80-3337-4dba-91b5-bf8c05b0bdb1",
   "metadata": {},
   "source": [
    "<br>\n",
    "\n",
    "**Count Vectorizer and Logistic Regression Hyperparameter Tuning**"
   ]
  },
  {
   "cell_type": "code",
   "execution_count": 26,
   "id": "e13a264f-9000-4813-b9e2-6a4aed4c4f0a",
   "metadata": {},
   "outputs": [
    {
     "data": {
      "text/plain": [
       "GridSearchCV(estimator=Pipeline(steps=[('cv2',\n",
       "                                        CountVectorizer(stop_words='english')),\n",
       "                                       ('mnb', MultinomialNB())]),\n",
       "             n_jobs=-1,\n",
       "             param_grid={'cv2__ngram_range': ((1, 1), (1, 2), (2, 2)),\n",
       "                         'mnb__alpha': [0.01, 0.05, 0.1]})"
      ]
     },
     "execution_count": 26,
     "metadata": {},
     "output_type": "execute_result"
    }
   ],
   "source": [
    "pipeline = Pipeline([\n",
    "    ('cv2', CountVectorizer(stop_words='english')),\n",
    "    ('mnb', MultinomialNB())\n",
    "])\n",
    "\n",
    "parameters = {\n",
    "    #'cv2__min_df': (1,2,3) default is best\n",
    "    'cv2__ngram_range': ((1, 1), (1, 2), (2,2)),\n",
    "    'mnb__alpha': [0.01, 0.05, 0.1]\n",
    "}\n",
    "    \n",
    "gs_mnb = GridSearchCV(pipeline, param_grid = parameters, n_jobs=-1)\n",
    "gs_mnb.fit(X2_train, y2_train)"
   ]
  },
  {
   "cell_type": "code",
   "execution_count": 27,
   "id": "c4586e0c-e351-4c7a-b096-da52d607c4b0",
   "metadata": {},
   "outputs": [
    {
     "name": "stdout",
     "output_type": "stream",
     "text": [
      "gs_mnb train score :  0.9982027318475917\n",
      "gs_mnb test score :  0.9558189655172413\n",
      "The accuracy score with hyperparameter tuning increased by : 0.014\n"
     ]
    }
   ],
   "source": [
    "\n",
    "print('gs_mnb train score : ', gs_mnb.score(X2_train, y2_train))\n",
    "print('gs_mnb test score : ', gs_mnb.score(X2_test, y2_test))\n",
    "print('The accuracy score with hyperparameter tuning increased by : '\n",
    "      f'{round((gs_mnb.score(X2_test, y2_test)) - (mnb2.score(X2_test_cv, y2_test)),4)}')"
   ]
  },
  {
   "cell_type": "markdown",
   "id": "1b0e9d07-43db-4549-b769-9b160053f797",
   "metadata": {},
   "source": [
    "<br>\n",
    "\n",
    "### Final Scores"
   ]
  },
  {
   "cell_type": "markdown",
   "id": "d36f2b60-f9b3-4758-8234-9e5dda36ce06",
   "metadata": {},
   "source": [
    "**Final Ranking Based on Accuracy Score with Hyperparameter Tuning**"
   ]
  },
  {
   "cell_type": "code",
   "execution_count": 28,
   "id": "2314edc7-51ee-4f7d-9c66-370c07fd14ec",
   "metadata": {},
   "outputs": [
    {
     "name": "stdout",
     "output_type": "stream",
     "text": [
      "Multinomial Naive Bayes accuracy score :  0.9558\n",
      "Random Forest Classifier accuracy score :  0.9353\n",
      "Logistic Regression accuracy score :  0.9343\n"
     ]
    }
   ],
   "source": [
    "print('Multinomial Naive Bayes accuracy score : ', round(gs_mnb.score(X2_test, y2_test),4))\n",
    "print('Random Forest Classifier accuracy score : ', round(gs_rfc.score(X2_test, y2_test),4))\n",
    "print('Logistic Regression accuracy score : ', round(gs_lr.score(X2_test, y2_test),4))"
   ]
  },
  {
   "cell_type": "markdown",
   "id": "cc928260-edd0-40d9-8908-bd894e7da406",
   "metadata": {},
   "source": [
    "<br>\n",
    "\n",
    "**Changes in Accuracy Score with Hyperparameter Tuning**"
   ]
  },
  {
   "cell_type": "code",
   "execution_count": 29,
   "id": "fc6674d0-32fe-4b95-869e-1eecf5e39695",
   "metadata": {},
   "outputs": [
    {
     "name": "stdout",
     "output_type": "stream",
     "text": [
      "Hyperparameter tuning increased the\n",
      "Multinomial Naive Bayes accuracy score by : 0.014\n",
      "\n",
      "Hyperparameter tuning increased the\n",
      "Random Forest Classifier accuracy score by : 0.0162\n",
      "\n",
      "Hyperparameter tuning increased the\n",
      "Logistic Regression accuracy score by : 0.0129\n"
     ]
    }
   ],
   "source": [
    "print('Hyperparameter tuning increased the\\nMultinomial Naive Bayes accuracy score by : '\n",
    "      f'{round((gs_mnb.score(X2_test, y2_test)) - (mnb2.score(X2_test_cv, y2_test)),4)}' '\\n')\n",
    "print('Hyperparameter tuning increased the\\nRandom Forest Classifier accuracy score by : '\n",
    "      f'{round((gs_rfc.score(X2_test, y2_test)) - (rfc2.score(X2_test_cv, y2_test)),4)}'  '\\n')\n",
    "print('Hyperparameter tuning increased the\\nLogistic Regression accuracy score by : '\n",
    "      f'{round((gs_lr.score(X2_test, y2_test)) - (lr2.score(X2_test_cv, y2_test)),4)}')"
   ]
  },
  {
   "cell_type": "markdown",
   "id": "daae0b4d-a423-4f16-ab64-a82c4ecd983e",
   "metadata": {},
   "source": [
    "<br>\n",
    "\n",
    "----\n",
    "<br>"
   ]
  },
  {
   "cell_type": "markdown",
   "id": "cbb1a8a5-f211-4309-af6a-c32ffc8d5f60",
   "metadata": {
    "tags": []
   },
   "source": [
    "# Understanding most impactful words\n",
    "#### Looking at the top 10 most impactful words for subreddit classification (using logistic regression)"
   ]
  },
  {
   "cell_type": "code",
   "execution_count": 45,
   "id": "0b0a9220-acf2-4e3d-9377-da23f21820c5",
   "metadata": {},
   "outputs": [],
   "source": [
    "coef_df = pd.DataFrame(lr.coef_[0], index=cv.get_feature_names_out(), columns=['coef_val'])"
   ]
  },
  {
   "cell_type": "markdown",
   "id": "92abc6e7-944e-4bca-a9d3-aa8079bb08c9",
   "metadata": {
    "tags": []
   },
   "source": [
    "<br>\n",
    "\n",
    "#### r/SkincareAddiction"
   ]
  },
  {
   "cell_type": "code",
   "execution_count": 46,
   "id": "43e03ee3-b02c-403e-a9ad-e1269ab662a7",
   "metadata": {},
   "outputs": [
    {
     "data": {
      "text/html": [
       "<div>\n",
       "<style scoped>\n",
       "    .dataframe tbody tr th:only-of-type {\n",
       "        vertical-align: middle;\n",
       "    }\n",
       "\n",
       "    .dataframe tbody tr th {\n",
       "        vertical-align: top;\n",
       "    }\n",
       "\n",
       "    .dataframe thead th {\n",
       "        text-align: right;\n",
       "    }\n",
       "</style>\n",
       "<table border=\"1\" class=\"dataframe\">\n",
       "  <thead>\n",
       "    <tr style=\"text-align: right;\">\n",
       "      <th></th>\n",
       "      <th>coef_val</th>\n",
       "    </tr>\n",
       "  </thead>\n",
       "  <tbody>\n",
       "    <tr>\n",
       "      <th>contains</th>\n",
       "      <td>6.860715</td>\n",
       "    </tr>\n",
       "    <tr>\n",
       "      <th>sunscreen</th>\n",
       "      <td>4.050836</td>\n",
       "    </tr>\n",
       "    <tr>\n",
       "      <th>skincare</th>\n",
       "      <td>3.376804</td>\n",
       "    </tr>\n",
       "    <tr>\n",
       "      <th>mineral</th>\n",
       "      <td>2.991318</td>\n",
       "    </tr>\n",
       "    <tr>\n",
       "      <th>vitamin</th>\n",
       "      <td>2.519303</td>\n",
       "    </tr>\n",
       "    <tr>\n",
       "      <th>daily</th>\n",
       "      <td>2.466585</td>\n",
       "    </tr>\n",
       "    <tr>\n",
       "      <th>imgur</th>\n",
       "      <td>2.432020</td>\n",
       "    </tr>\n",
       "    <tr>\n",
       "      <th>rid</th>\n",
       "      <td>2.348724</td>\n",
       "    </tr>\n",
       "    <tr>\n",
       "      <th>started</th>\n",
       "      <td>2.301942</td>\n",
       "    </tr>\n",
       "    <tr>\n",
       "      <th>acne</th>\n",
       "      <td>2.290933</td>\n",
       "    </tr>\n",
       "  </tbody>\n",
       "</table>\n",
       "</div>"
      ],
      "text/plain": [
       "           coef_val\n",
       "contains   6.860715\n",
       "sunscreen  4.050836\n",
       "skincare   3.376804\n",
       "mineral    2.991318\n",
       "vitamin    2.519303\n",
       "daily      2.466585\n",
       "imgur      2.432020\n",
       "rid        2.348724\n",
       "started    2.301942\n",
       "acne       2.290933"
      ]
     },
     "execution_count": 46,
     "metadata": {},
     "output_type": "execute_result"
    }
   ],
   "source": [
    "np.exp(coef_df.sort_values(by='coef_val').tail(10).iloc[::-1]) #skincareaddiction"
   ]
  },
  {
   "cell_type": "code",
   "execution_count": 47,
   "id": "11921ecb-a1d3-496d-bab8-61519b6821f0",
   "metadata": {},
   "outputs": [
    {
     "data": {
      "image/png": "[encoded data removed]",
      "text/plain": [
       "<Figure size 720x504 with 1 Axes>"
      ]
     },
     "metadata": {
      "needs_background": "light"
     },
     "output_type": "display_data"
    }
   ],
   "source": [
    "skin_10 = coef_df.sort_values(by='coef_val').tail(10)\n",
    "skin_10.plot(kind='barh', figsize=(10,7))\n",
    "plt.title('\\nTop 10 Most Impactful Words for r/SkincareAddiction Classification\\n', fontsize=18)\n",
    "plt.xlabel('\\ncoefficients', fontsize=14)\n",
    "plt.xticks(fontsize=14)\n",
    "plt.ylabel('words\\n', fontsize=14)\n",
    "plt.yticks(fontsize=14);"
   ]
  },
  {
   "cell_type": "markdown",
   "id": "2e2ba6b6-165b-421c-8257-ab4d82b5bb64",
   "metadata": {},
   "source": [
    "**The higher the coefficient values, the more likely posts with the word were to be classified as a post in r/MakeupAddiction.**"
   ]
  },
  {
   "cell_type": "markdown",
   "id": "822c6033-861d-4cb0-8b2a-206714c3586e",
   "metadata": {},
   "source": [
    "<br>\n",
    "\n",
    "#### r/MakeupAddiction"
   ]
  },
  {
   "cell_type": "code",
   "execution_count": 48,
   "id": "b93f88d5-4a35-4818-8705-14b51ffe4156",
   "metadata": {},
   "outputs": [
    {
     "data": {
      "text/html": [
       "<div>\n",
       "<style scoped>\n",
       "    .dataframe tbody tr th:only-of-type {\n",
       "        vertical-align: middle;\n",
       "    }\n",
       "\n",
       "    .dataframe tbody tr th {\n",
       "        vertical-align: top;\n",
       "    }\n",
       "\n",
       "    .dataframe thead th {\n",
       "        text-align: right;\n",
       "    }\n",
       "</style>\n",
       "<table border=\"1\" class=\"dataframe\">\n",
       "  <thead>\n",
       "    <tr style=\"text-align: right;\">\n",
       "      <th></th>\n",
       "      <th>coef_val</th>\n",
       "    </tr>\n",
       "  </thead>\n",
       "  <tbody>\n",
       "    <tr>\n",
       "      <th>makeup</th>\n",
       "      <td>8.128641</td>\n",
       "    </tr>\n",
       "    <tr>\n",
       "      <th>primer</th>\n",
       "      <td>4.294460</td>\n",
       "    </tr>\n",
       "    <tr>\n",
       "      <th>lipstick</th>\n",
       "      <td>3.373177</td>\n",
       "    </tr>\n",
       "    <tr>\n",
       "      <th>mascara</th>\n",
       "      <td>3.231776</td>\n",
       "    </tr>\n",
       "    <tr>\n",
       "      <th>setting</th>\n",
       "      <td>3.093934</td>\n",
       "    </tr>\n",
       "    <tr>\n",
       "      <th>foundation</th>\n",
       "      <td>2.927909</td>\n",
       "    </tr>\n",
       "    <tr>\n",
       "      <th>eyeliner</th>\n",
       "      <td>2.716019</td>\n",
       "    </tr>\n",
       "    <tr>\n",
       "      <th>look</th>\n",
       "      <td>2.698327</td>\n",
       "    </tr>\n",
       "    <tr>\n",
       "      <th>blush</th>\n",
       "      <td>2.695417</td>\n",
       "    </tr>\n",
       "    <tr>\n",
       "      <th>shade</th>\n",
       "      <td>2.540597</td>\n",
       "    </tr>\n",
       "  </tbody>\n",
       "</table>\n",
       "</div>"
      ],
      "text/plain": [
       "            coef_val\n",
       "makeup      8.128641\n",
       "primer      4.294460\n",
       "lipstick    3.373177\n",
       "mascara     3.231776\n",
       "setting     3.093934\n",
       "foundation  2.927909\n",
       "eyeliner    2.716019\n",
       "look        2.698327\n",
       "blush       2.695417\n",
       "shade       2.540597"
      ]
     },
     "execution_count": 48,
     "metadata": {},
     "output_type": "execute_result"
    }
   ],
   "source": [
    "np.exp(coef_df.sort_values(by='coef_val').head(10).abs()) #makeupaddiction"
   ]
  },
  {
   "cell_type": "code",
   "execution_count": 49,
   "id": "a3260afe-217d-4d4a-926a-2328a9005fa1",
   "metadata": {},
   "outputs": [
    {
     "data": {
      "image/png": "[encoded data removed]",
      "text/plain": [
       "<Figure size 720x504 with 1 Axes>"
      ]
     },
     "metadata": {
      "needs_background": "light"
     },
     "output_type": "display_data"
    }
   ],
   "source": [
    "makeup_10 = coef_df.sort_values(by='coef_val').head(10).abs().iloc[::-1]\n",
    "makeup_10.plot(kind='barh', figsize=(10,7))\n",
    "plt.title('\\nTop 10 Most Impactful Words for r/MakeupAddiction Classification\\n', fontsize=18)\n",
    "plt.xlabel('\\ncoefficients', fontsize=14)\n",
    "plt.xticks(fontsize=13)\n",
    "plt.ylabel('words\\n', fontsize=14)\n",
    "plt.yticks(fontsize=13);"
   ]
  },
  {
   "cell_type": "markdown",
   "id": "0990be8e-607b-4421-8bde-dfdc75b756bc",
   "metadata": {},
   "source": [
    "**The higher the coefficient values, the more likely posts with the word were to be classified as a post in r/MakeupAddiction.**"
   ]
  },
  {
   "cell_type": "markdown",
   "id": "31a78335-5228-42f8-b970-08a6c382ba9e",
   "metadata": {},
   "source": [
    "<br>\n",
    "\n",
    "----\n",
    "<br>"
   ]
  },
  {
   "cell_type": "markdown",
   "id": "5f4d792d-c5c9-463e-8c8f-facea854a297",
   "metadata": {},
   "source": [
    "# Misclassifications\n",
    "#### Gathering and analyzing the posts misclassified by the model."
   ]
  },
  {
   "cell_type": "code",
   "execution_count": 35,
   "id": "47487f1c-65f7-4b07-b6dc-6c4181969b78",
   "metadata": {},
   "outputs": [],
   "source": [
    "test_preds = mnb2.predict(X2_test_cv)\n",
    "pd.set_option('display.max_colwidth', None)"
   ]
  },
  {
   "cell_type": "code",
   "execution_count": 36,
   "id": "b7c449f8-3780-4fe3-877e-780fb8d77008",
   "metadata": {},
   "outputs": [
    {
     "data": {
      "text/html": [
       "<div>\n",
       "<style scoped>\n",
       "    .dataframe tbody tr th:only-of-type {\n",
       "        vertical-align: middle;\n",
       "    }\n",
       "\n",
       "    .dataframe tbody tr th {\n",
       "        vertical-align: top;\n",
       "    }\n",
       "\n",
       "    .dataframe thead th {\n",
       "        text-align: right;\n",
       "    }\n",
       "</style>\n",
       "<table border=\"1\" class=\"dataframe\">\n",
       "  <thead>\n",
       "    <tr style=\"text-align: right;\">\n",
       "      <th></th>\n",
       "      <th>selftext</th>\n",
       "      <th>pred class</th>\n",
       "      <th>true class</th>\n",
       "    </tr>\n",
       "  </thead>\n",
       "  <tbody>\n",
       "    <tr>\n",
       "      <th>2431</th>\n",
       "      <td>Based on research this may be the perfect product for my face! But I cant seem to find it in stores or on Amazon directly from Eucerin — they are sold by third party retailers. I would love to know what’s a good trustworthy site to purchase Eucerin products?</td>\n",
       "      <td>MakeupAddiction</td>\n",
       "      <td>SkincareAddiction</td>\n",
       "    </tr>\n",
       "    <tr>\n",
       "      <th>6757</th>\n",
       "      <td>Hey there,\\n\\nI'm keen on giving my eyebrows a little boost, and I read online that rosemary oil has similar effect to 2% minoxidil. Did a bit of googling and I couldn't find out whether I'm supposed to dilute the rosemary oil with a carrier oil or not. Does anyone know? I'm curious to hear about your experiences with rosemary oil+eyebrow growth in general :) \\n\\nThanks a lot :))</td>\n",
       "      <td>SkincareAddiction</td>\n",
       "      <td>MakeupAddiction</td>\n",
       "    </tr>\n",
       "    <tr>\n",
       "      <th>6890</th>\n",
       "      <td>So I have normal to dry skin, but really dry in winter. I use all hydrating products (CeraVe hydrating face wash, hyaluronic acid applied on a damp face, FAB hydration cream, ceramide treatments at night sometimes). My skin is wayyy better than it was a couple years ago and looks and feels soft/smooth mostly with no makeup. \\n\\nThen, I go to put on even a tinted moisturizer, much less a powder or anything, and it highlights what looks like dry skin flecks/scales on my forehead that weren't noticeable w/o the makeup. I would just leave it bare since I go light on makeup, but I have a redness patch on my forehead that I like to even out. \\n\\nAny tips for how to get rid of this? I exfoliate a couple times a week with Neutrogena Hydroboost exfoliating face wash. I also use Niacinamide every time I wash my face, and retinol products a few times a week at night.</td>\n",
       "      <td>SkincareAddiction</td>\n",
       "      <td>MakeupAddiction</td>\n",
       "    </tr>\n",
       "    <tr>\n",
       "      <th>5698</th>\n",
       "      <td>I am looking for a moisturizer for my skin. It is very acne-prone. I am also 4 months pregnant, so it cannot contain certain ingredients like retinol or salicylic acid no stronger than 2%. Thanks in advance!</td>\n",
       "      <td>SkincareAddiction</td>\n",
       "      <td>MakeupAddiction</td>\n",
       "    </tr>\n",
       "    <tr>\n",
       "      <th>276</th>\n",
       "      <td>What are some products that are your favorites? Not looking for a particular type of product, just want some recommendations that are affordable cause I be broke.</td>\n",
       "      <td>MakeupAddiction</td>\n",
       "      <td>SkincareAddiction</td>\n",
       "    </tr>\n",
       "  </tbody>\n",
       "</table>\n",
       "</div>"
      ],
      "text/plain": [
       "                                                                                                                                                                                                                                                                                                                                                                                                                                                                                                                                                                                                                                                                                                                                                                                                                                                                                                  selftext  \\\n",
       "2431                                                                                                                                                                                                                                                                                                                                                                                                                                                                                                                                                                                                                                    Based on research this may be the perfect product for my face! But I cant seem to find it in stores or on Amazon directly from Eucerin — they are sold by third party retailers. I would love to know what’s a good trustworthy site to purchase Eucerin products?   \n",
       "6757                                                                                                                                                                                                                                                                                                                                                                                                                                                                                                        Hey there,\\n\\nI'm keen on giving my eyebrows a little boost, and I read online that rosemary oil has similar effect to 2% minoxidil. Did a bit of googling and I couldn't find out whether I'm supposed to dilute the rosemary oil with a carrier oil or not. Does anyone know? I'm curious to hear about your experiences with rosemary oil+eyebrow growth in general :) \\n\\nThanks a lot :))   \n",
       "6890  So I have normal to dry skin, but really dry in winter. I use all hydrating products (CeraVe hydrating face wash, hyaluronic acid applied on a damp face, FAB hydration cream, ceramide treatments at night sometimes). My skin is wayyy better than it was a couple years ago and looks and feels soft/smooth mostly with no makeup. \\n\\nThen, I go to put on even a tinted moisturizer, much less a powder or anything, and it highlights what looks like dry skin flecks/scales on my forehead that weren't noticeable w/o the makeup. I would just leave it bare since I go light on makeup, but I have a redness patch on my forehead that I like to even out. \\n\\nAny tips for how to get rid of this? I exfoliate a couple times a week with Neutrogena Hydroboost exfoliating face wash. I also use Niacinamide every time I wash my face, and retinol products a few times a week at night.   \n",
       "5698                                                                                                                                                                                                                                                                                                                                                                                                                                                                                                                                                                                                                                                                                       I am looking for a moisturizer for my skin. It is very acne-prone. I am also 4 months pregnant, so it cannot contain certain ingredients like retinol or salicylic acid no stronger than 2%. Thanks in advance!   \n",
       "276                                                                                                                                                                                                                                                                                                                                                                                                                                                                                                                                                                                                                                                                                                                                     What are some products that are your favorites? Not looking for a particular type of product, just want some recommendations that are affordable cause I be broke.   \n",
       "\n",
       "             pred class         true class  \n",
       "2431    MakeupAddiction  SkincareAddiction  \n",
       "6757  SkincareAddiction    MakeupAddiction  \n",
       "6890  SkincareAddiction    MakeupAddiction  \n",
       "5698  SkincareAddiction    MakeupAddiction  \n",
       "276     MakeupAddiction  SkincareAddiction  "
      ]
     },
     "execution_count": 36,
     "metadata": {},
     "output_type": "execute_result"
    }
   ],
   "source": [
    "misclassifications = pd.DataFrame(X2_test)\n",
    "\n",
    "misclassifications['pred class'] = test_preds\n",
    "misclassifications['true class'] = y2_test\n",
    "\n",
    "mis = misclassifications[misclassifications['pred class'] != misclassifications['true class']]\n",
    "mis.head(5)"
   ]
  },
  {
   "cell_type": "markdown",
   "id": "251648f9-e535-4e58-a94b-d1cd09280a94",
   "metadata": {},
   "source": [
    "<br>\n",
    "\n",
    "### Confusion Matrix"
   ]
  },
  {
   "cell_type": "code",
   "execution_count": 37,
   "id": "82b8962f-0d37-4668-9b75-c0a629addd64",
   "metadata": {},
   "outputs": [
    {
     "data": {
      "image/png": "[encoded data removed]",
      "text/plain": [
       "<Figure size 864x648 with 2 Axes>"
      ]
     },
     "metadata": {
      "needs_background": "light"
     },
     "output_type": "display_data"
    }
   ],
   "source": [
    "fig, ax = plt.subplots(figsize=(12, 9))\n",
    "\n",
    "ConfusionMatrixDisplay.from_estimator(mnb2, X2_test_cv, y2_test, cmap='Oranges', ax=ax)\n",
    "\n",
    "plt.title('\\nr/SkincareAddiction and r/MakeupAddiction Classification\\n', fontsize=18)\n",
    "plt.xlabel('\\nPredicted Label',fontsize=14)\n",
    "plt.xticks(fontsize=13)\n",
    "plt.ylabel('True Label\\n', fontsize=14)\n",
    "plt.yticks(fontsize=13);"
   ]
  },
  {
   "cell_type": "markdown",
   "id": "7ba36d7f-a183-41da-83d1-633024ec8069",
   "metadata": {},
   "source": [
    "<br>\n",
    "\n",
    "### Wordcloud\n",
    "#### Most common words among misclassified posts."
   ]
  },
  {
   "cell_type": "code",
   "execution_count": 38,
   "id": "29eafb75-dd8b-4643-904d-229b8f550cbc",
   "metadata": {},
   "outputs": [],
   "source": [
    "from wordcloud import WordCloud, STOPWORDS"
   ]
  },
  {
   "cell_type": "code",
   "execution_count": 39,
   "id": "3e4ba9e8-dddd-4c2f-ab93-973a0baad35f",
   "metadata": {},
   "outputs": [],
   "source": [
    "text = ' '.join(misclassifications['selftext'])\n",
    "wordcloud = WordCloud(stopwords = STOPWORDS,width=1000, height=400, min_font_size = 12, max_font_size=200, max_words=40,\n",
    "                      background_color=\"white\",\n",
    "                      colormap = 'gist_heat',\n",
    "                      min_word_length = 4).generate(text) #get rid of smaller words/parts of contractions that aren't descriptive"
   ]
  },
  {
   "cell_type": "code",
   "execution_count": 40,
   "id": "5bee0484-f374-4708-91e4-eba369daae94",
   "metadata": {},
   "outputs": [
    {
     "data": {
      "image/png": "[encoded data removed]",
      "text/plain": [
       "<Figure size 864x288 with 1 Axes>"
      ]
     },
     "metadata": {
      "needs_background": "light"
     },
     "output_type": "display_data"
    }
   ],
   "source": [
    "plt.figure(figsize=(12,4))\n",
    "plt.imshow(wordcloud, interpolation='bilinear')\n",
    "plt.axis(\"off\")\n",
    "plt.tight_layout(pad=0)\n",
    "plt.show()"
   ]
  }
 ],
 "metadata": {
  "kernelspec": {
   "display_name": "Python 3 (ipykernel)",
   "language": "python",
   "name": "python3"
  },
  "language_info": {
   "codemirror_mode": {
    "name": "ipython",
    "version": 3
   },
   "file_extension": ".py",
   "mimetype": "text/x-python",
   "name": "python",
   "nbconvert_exporter": "python",
   "pygments_lexer": "ipython3",
   "version": "3.9.7"
  }
 },
 "nbformat": 4,
 "nbformat_minor": 5
}
