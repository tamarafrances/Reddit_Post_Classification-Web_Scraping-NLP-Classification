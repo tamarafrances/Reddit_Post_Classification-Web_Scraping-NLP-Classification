{
 "cells": [
  {
   "cell_type": "code",
   "execution_count": 2,
   "id": "9d9fd0d7-15d5-420c-afc3-6178d9a7b821",
   "metadata": {},
   "outputs": [],
   "source": [
    "# import requests\n",
    "# import pandas as pd\n",
    "# import time"
   ]
  },
  {
   "cell_type": "code",
   "execution_count": 3,
   "id": "fda66780-8445-4bdd-a9fe-00fbd766a672",
   "metadata": {},
   "outputs": [
    {
     "name": "stdout",
     "output_type": "stream",
     "text": [
      "1651435381\n"
     ]
    },
    {
     "data": {
      "text/html": [
       "<div>\n",
       "<style scoped>\n",
       "    .dataframe tbody tr th:only-of-type {\n",
       "        vertical-align: middle;\n",
       "    }\n",
       "\n",
       "    .dataframe tbody tr th {\n",
       "        vertical-align: top;\n",
       "    }\n",
       "\n",
       "    .dataframe thead th {\n",
       "        text-align: right;\n",
       "    }\n",
       "</style>\n",
       "<table border=\"1\" class=\"dataframe\">\n",
       "  <thead>\n",
       "    <tr style=\"text-align: right;\">\n",
       "      <th></th>\n",
       "      <th>subreddit</th>\n",
       "      <th>title</th>\n",
       "      <th>selftext</th>\n",
       "    </tr>\n",
       "  </thead>\n",
       "  <tbody>\n",
       "    <tr>\n",
       "      <th>0</th>\n",
       "      <td>MakeupAddiction</td>\n",
       "      <td>an attempt to do “grunge” makeup at 1am</td>\n",
       "      <td></td>\n",
       "    </tr>\n",
       "    <tr>\n",
       "      <th>1</th>\n",
       "      <td>MakeupAddiction</td>\n",
       "      <td>First time rocking “Kim Possible” lips. How’d ...</td>\n",
       "      <td></td>\n",
       "    </tr>\n",
       "    <tr>\n",
       "      <th>2</th>\n",
       "      <td>MakeupAddiction</td>\n",
       "      <td>Embarrassed… need makeup advice…</td>\n",
       "      <td>Hi… I am 36 asian female… I went to a girls ba...</td>\n",
       "    </tr>\n",
       "    <tr>\n",
       "      <th>3</th>\n",
       "      <td>MakeupAddiction</td>\n",
       "      <td>Can you tell me what you think of this lipstic...</td>\n",
       "      <td></td>\n",
       "    </tr>\n",
       "    <tr>\n",
       "      <th>4</th>\n",
       "      <td>MakeupAddiction</td>\n",
       "      <td>Does anyone else never wear foundation?</td>\n",
       "      <td>I see all these gorgeous looks on here using f...</td>\n",
       "    </tr>\n",
       "  </tbody>\n",
       "</table>\n",
       "</div>"
      ],
      "text/plain": [
       "         subreddit                                              title  \\\n",
       "0  MakeupAddiction            an attempt to do “grunge” makeup at 1am   \n",
       "1  MakeupAddiction  First time rocking “Kim Possible” lips. How’d ...   \n",
       "2  MakeupAddiction                   Embarrassed… need makeup advice…   \n",
       "3  MakeupAddiction  Can you tell me what you think of this lipstic...   \n",
       "4  MakeupAddiction            Does anyone else never wear foundation?   \n",
       "\n",
       "                                            selftext  \n",
       "0                                                     \n",
       "1                                                     \n",
       "2  Hi… I am 36 asian female… I went to a girls ba...  \n",
       "3                                                     \n",
       "4  I see all these gorgeous looks on here using f...  "
      ]
     },
     "execution_count": 3,
     "metadata": {},
     "output_type": "execute_result"
    }
   ],
   "source": [
    "# url = 'https://api.pushshift.io/reddit/search/submission'\n",
    "# params = {'subreddit' : 'MakeupAddiction',\n",
    "#           'size' : 500,\n",
    "# }\n",
    "\n",
    "# res = requests.get(url, params)\n",
    "# res.status_code\n",
    "\n",
    "# data = res.json()\n",
    "# posts = data['data']\n",
    "# print(posts[49]['created_utc'])\n",
    "# df_skin = pd.DataFrame(posts)\n",
    "# df_skin = df_skin[['subreddit','title', 'selftext']]\n",
    "# df_skin.head()"
   ]
  },
  {
   "cell_type": "code",
   "execution_count": 3,
   "id": "08d6d62e-e93b-4032-84ec-338012eff879",
   "metadata": {
    "tags": []
   },
   "outputs": [],
   "source": [
    "# #starting UTC is 1651019189\n",
    "# def get_posts(subreddit, utc):\n",
    "#     params = {'subreddit' : subreddit,\n",
    "#               'size' : 100,\n",
    "#               'is_self' : True,\n",
    "#               'before' : utc\n",
    "#     }\n",
    "#     res = requests.get(url, params)\n",
    "#     data = res.json()\n",
    "#     posts = data['data']\n",
    "#     new_utc = posts[-1]['created_utc']\n",
    "#     posts_df = pd.DataFrame(posts)\n",
    "#     i = 1\n",
    "    \n",
    "    \n",
    "#     while i < 35:\n",
    "#         params = {'subreddit' : subreddit,\n",
    "#               'size' : 100,\n",
    "#               'is_self' : True,\n",
    "#               'before' : new_utc\n",
    "#         }\n",
    "#         res = requests.get(url, params)\n",
    "#         data_1 = res.json()\n",
    "#         posts_1 = data_1['data']\n",
    "#         new_utc = posts_1[-1]['created_utc']\n",
    "#         posts_df_1 = pd.DataFrame(posts_1)\n",
    "#         posts_df = pd.concat([posts_df, posts_df_1])\n",
    "#         i += 1\n",
    "#         time.sleep(5)\n",
    "#     return posts_df\n",
    "    "
   ]
  },
  {
   "cell_type": "code",
   "execution_count": 4,
   "id": "02dd46d4-0416-47e0-a319-a0f8310b2da3",
   "metadata": {},
   "outputs": [],
   "source": [
    "#skincare_addiction = get_posts('SkincareAddiction', 1651019189)\n",
    "#money_diaries = get_posts('MoneyDiariesACTIVE', 1651019189)"
   ]
  },
  {
   "cell_type": "code",
   "execution_count": 5,
   "id": "e6fc6619-b927-4fa5-b54f-85fb2fd02a38",
   "metadata": {},
   "outputs": [],
   "source": [
    "# skincare_addiction.to_csv('data/skincare_addiction.csv', encoding='utf-8', index=False)\n",
    "# money_diaries.to_csv('data/money_diaries.csv', encoding='utf-8', index=False)"
   ]
  },
  {
   "cell_type": "code",
   "execution_count": 6,
   "id": "8e1c0f47-f3b7-4b84-bf5d-0907cf953f7f",
   "metadata": {},
   "outputs": [],
   "source": [
    "# skin_and_money = pd.concat([skincare_addiction, money_diaries])\n",
    "# skin_and_money.to_csv('data/skin_and_money.csv', encoding='utf-8', index=False)"
   ]
  },
  {
   "cell_type": "code",
   "execution_count": 7,
   "id": "f2d69721-d12e-4e0c-866b-0f1918de3396",
   "metadata": {},
   "outputs": [],
   "source": [
    "#makeup_addiction = get_posts('MakeupAddiction', 1651019189)"
   ]
  },
  {
   "cell_type": "code",
   "execution_count": 8,
   "id": "e7086f97-ce70-4c23-80b5-190db2ea79cb",
   "metadata": {},
   "outputs": [],
   "source": [
    "#makeup_addiction.to_csv('data/makeup_addiction.csv', encoding='utf-8', index=False)"
   ]
  },
  {
   "cell_type": "code",
   "execution_count": 9,
   "id": "9bc54a85-f381-46b9-8918-c1859f00a050",
   "metadata": {},
   "outputs": [],
   "source": [
    "#skin_and_makeup = pd.concat([skincare_addiction, makeup_addiction])\n",
    "#skin_and_makeup.to_csv('data/skin_and_makeup.csv', encoding='utf-8', index=False)"
   ]
  }
 ],
 "metadata": {
  "kernelspec": {
   "display_name": "Python 3 (ipykernel)",
   "language": "python",
   "name": "python3"
  },
  "language_info": {
   "codemirror_mode": {
    "name": "ipython",
    "version": 3
   },
   "file_extension": ".py",
   "mimetype": "text/x-python",
   "name": "python",
   "nbconvert_exporter": "python",
   "pygments_lexer": "ipython3",
   "version": "3.9.7"
  }
 },
 "nbformat": 4,
 "nbformat_minor": 5
}
